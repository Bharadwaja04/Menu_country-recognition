{
 "cells": [
  {
   "cell_type": "code",
   "execution_count": 2,
   "metadata": {},
   "outputs": [],
   "source": [
    "import pandas as pd\n",
    "from sklearn.model_selection import train_test_split\n",
    "import spacy\n",
    "from sklearn.pipeline import Pipeline\n",
    "from sklearn.linear_model import LogisticRegression\n",
    "from sklearn.feature_extraction.text import CountVectorizer\n",
    "from sklearn.metrics import classification_report\n",
    "\n",
    "nlp = spacy.load('en_core_web_sm')"
   ]
  },
  {
   "cell_type": "code",
   "execution_count": 3,
   "metadata": {},
   "outputs": [],
   "source": [
    "df = pd.read_csv('Book.csv',encoding = 'cp1252')"
   ]
  },
  {
   "cell_type": "code",
   "execution_count": 4,
   "metadata": {},
   "outputs": [
    {
     "data": {
      "text/html": [
       "<div>\n",
       "<style scoped>\n",
       "    .dataframe tbody tr th:only-of-type {\n",
       "        vertical-align: middle;\n",
       "    }\n",
       "\n",
       "    .dataframe tbody tr th {\n",
       "        vertical-align: top;\n",
       "    }\n",
       "\n",
       "    .dataframe thead th {\n",
       "        text-align: right;\n",
       "    }\n",
       "</style>\n",
       "<table border=\"1\" class=\"dataframe\">\n",
       "  <thead>\n",
       "    <tr style=\"text-align: right;\">\n",
       "      <th></th>\n",
       "      <th>Restaurant_name</th>\n",
       "      <th>Restaurant Location</th>\n",
       "      <th>Menu</th>\n",
       "      <th>flag</th>\n",
       "    </tr>\n",
       "  </thead>\n",
       "  <tbody>\n",
       "    <tr>\n",
       "      <th>0</th>\n",
       "      <td>Bacchus Kitchen</td>\n",
       "      <td>Coppell</td>\n",
       "      <td>Bacchus Continental ,Smoked Salmon Omelet,Smok...</td>\n",
       "      <td>America</td>\n",
       "    </tr>\n",
       "    <tr>\n",
       "      <th>1</th>\n",
       "      <td>Fogo de Chao</td>\n",
       "      <td>Coppell</td>\n",
       "      <td>Picanha (Top Sirloin), Jumbo Shrimp Wrapped in...</td>\n",
       "      <td>Brazil</td>\n",
       "    </tr>\n",
       "    <tr>\n",
       "      <th>2</th>\n",
       "      <td>Mio Nonno Trattoriaÿ</td>\n",
       "      <td>Coppell</td>\n",
       "      <td>Calamari,Salumi Italiani,Arancini,,Polenta,Pol...</td>\n",
       "      <td>Italy</td>\n",
       "    </tr>\n",
       "    <tr>\n",
       "      <th>3</th>\n",
       "      <td>Rainforest Cafe</td>\n",
       "      <td>Coppell</td>\n",
       "      <td>Seasonal Oysters,Wurst Taste,Crawfish Ranchini...</td>\n",
       "      <td>Germany</td>\n",
       "    </tr>\n",
       "    <tr>\n",
       "      <th>4</th>\n",
       "      <td>Jinbehÿ</td>\n",
       "      <td>Coppell</td>\n",
       "      <td>Ddukbokki,Mandoo,Cab Rangoon,Miso Soup,Chicken...</td>\n",
       "      <td>Korean</td>\n",
       "    </tr>\n",
       "  </tbody>\n",
       "</table>\n",
       "</div>"
      ],
      "text/plain": [
       "        Restaurant_name Restaurant Location  \\\n",
       "0       Bacchus Kitchen             Coppell   \n",
       "1          Fogo de Chao             Coppell   \n",
       "2  Mio Nonno Trattoriaÿ             Coppell   \n",
       "3       Rainforest Cafe             Coppell   \n",
       "4               Jinbehÿ             Coppell   \n",
       "\n",
       "                                                Menu     flag  \n",
       "0  Bacchus Continental ,Smoked Salmon Omelet,Smok...  America  \n",
       "1  Picanha (Top Sirloin), Jumbo Shrimp Wrapped in...   Brazil  \n",
       "2  Calamari,Salumi Italiani,Arancini,,Polenta,Pol...    Italy  \n",
       "3  Seasonal Oysters,Wurst Taste,Crawfish Ranchini...  Germany  \n",
       "4  Ddukbokki,Mandoo,Cab Rangoon,Miso Soup,Chicken...   Korean  "
      ]
     },
     "execution_count": 4,
     "metadata": {},
     "output_type": "execute_result"
    }
   ],
   "source": [
    "df.head()"
   ]
  },
  {
   "cell_type": "code",
   "execution_count": 5,
   "metadata": {},
   "outputs": [],
   "source": [
    "def preprocess(text):\n",
    "    doc = nlp(text)\n",
    "    filtered_tokens = []\n",
    "    for token in doc:\n",
    "        if not token.is_punct and not token.is_stop:\n",
    "            filtered_tokens.append(token.lemma_)\n",
    "    return ' '.join(filtered_tokens)"
   ]
  },
  {
   "cell_type": "code",
   "execution_count": 6,
   "metadata": {},
   "outputs": [],
   "source": [
    "df['menu_new'] = df['Menu'].apply(preprocess)"
   ]
  },
  {
   "cell_type": "code",
   "execution_count": 7,
   "metadata": {},
   "outputs": [
    {
     "data": {
      "text/html": [
       "<div>\n",
       "<style scoped>\n",
       "    .dataframe tbody tr th:only-of-type {\n",
       "        vertical-align: middle;\n",
       "    }\n",
       "\n",
       "    .dataframe tbody tr th {\n",
       "        vertical-align: top;\n",
       "    }\n",
       "\n",
       "    .dataframe thead th {\n",
       "        text-align: right;\n",
       "    }\n",
       "</style>\n",
       "<table border=\"1\" class=\"dataframe\">\n",
       "  <thead>\n",
       "    <tr style=\"text-align: right;\">\n",
       "      <th></th>\n",
       "      <th>Restaurant_name</th>\n",
       "      <th>Restaurant Location</th>\n",
       "      <th>Menu</th>\n",
       "      <th>flag</th>\n",
       "      <th>menu_new</th>\n",
       "    </tr>\n",
       "  </thead>\n",
       "  <tbody>\n",
       "    <tr>\n",
       "      <th>0</th>\n",
       "      <td>Bacchus Kitchen</td>\n",
       "      <td>Coppell</td>\n",
       "      <td>Bacchus Continental ,Smoked Salmon Omelet,Smok...</td>\n",
       "      <td>America</td>\n",
       "      <td>Bacchus Continental Smoked Salmon Omelet Smoke...</td>\n",
       "    </tr>\n",
       "    <tr>\n",
       "      <th>1</th>\n",
       "      <td>Fogo de Chao</td>\n",
       "      <td>Coppell</td>\n",
       "      <td>Picanha (Top Sirloin), Jumbo Shrimp Wrapped in...</td>\n",
       "      <td>Brazil</td>\n",
       "      <td>Picanha Sirloin Jumbo Shrimp wrap Jalape¤o Bac...</td>\n",
       "    </tr>\n",
       "    <tr>\n",
       "      <th>2</th>\n",
       "      <td>Mio Nonno Trattoriaÿ</td>\n",
       "      <td>Coppell</td>\n",
       "      <td>Calamari,Salumi Italiani,Arancini,,Polenta,Pol...</td>\n",
       "      <td>Italy</td>\n",
       "      <td>Calamari Salumi Italiani arancini,,polenta Pol...</td>\n",
       "    </tr>\n",
       "    <tr>\n",
       "      <th>3</th>\n",
       "      <td>Rainforest Cafe</td>\n",
       "      <td>Coppell</td>\n",
       "      <td>Seasonal Oysters,Wurst Taste,Crawfish Ranchini...</td>\n",
       "      <td>Germany</td>\n",
       "      <td>Seasonal Oysters Wurst Taste Crawfish Ranchini...</td>\n",
       "    </tr>\n",
       "    <tr>\n",
       "      <th>4</th>\n",
       "      <td>Jinbehÿ</td>\n",
       "      <td>Coppell</td>\n",
       "      <td>Ddukbokki,Mandoo,Cab Rangoon,Miso Soup,Chicken...</td>\n",
       "      <td>Korean</td>\n",
       "      <td>Ddukbokki Mandoo Cab Rangoon Miso Soup Chicken...</td>\n",
       "    </tr>\n",
       "  </tbody>\n",
       "</table>\n",
       "</div>"
      ],
      "text/plain": [
       "        Restaurant_name Restaurant Location  \\\n",
       "0       Bacchus Kitchen             Coppell   \n",
       "1          Fogo de Chao             Coppell   \n",
       "2  Mio Nonno Trattoriaÿ             Coppell   \n",
       "3       Rainforest Cafe             Coppell   \n",
       "4               Jinbehÿ             Coppell   \n",
       "\n",
       "                                                Menu     flag  \\\n",
       "0  Bacchus Continental ,Smoked Salmon Omelet,Smok...  America   \n",
       "1  Picanha (Top Sirloin), Jumbo Shrimp Wrapped in...   Brazil   \n",
       "2  Calamari,Salumi Italiani,Arancini,,Polenta,Pol...    Italy   \n",
       "3  Seasonal Oysters,Wurst Taste,Crawfish Ranchini...  Germany   \n",
       "4  Ddukbokki,Mandoo,Cab Rangoon,Miso Soup,Chicken...   Korean   \n",
       "\n",
       "                                            menu_new  \n",
       "0  Bacchus Continental Smoked Salmon Omelet Smoke...  \n",
       "1  Picanha Sirloin Jumbo Shrimp wrap Jalape¤o Bac...  \n",
       "2  Calamari Salumi Italiani arancini,,polenta Pol...  \n",
       "3  Seasonal Oysters Wurst Taste Crawfish Ranchini...  \n",
       "4  Ddukbokki Mandoo Cab Rangoon Miso Soup Chicken...  "
      ]
     },
     "execution_count": 7,
     "metadata": {},
     "output_type": "execute_result"
    }
   ],
   "source": [
    "df.head()"
   ]
  },
  {
   "cell_type": "code",
   "execution_count": 8,
   "metadata": {},
   "outputs": [
    {
     "data": {
      "text/plain": [
       "America      5\n",
       "Italy        5\n",
       "Japan        4\n",
       "Brazil       3\n",
       "Germany      3\n",
       "Korean       3\n",
       "Mexico       3\n",
       "France       3\n",
       "China        3\n",
       "India        3\n",
       "Indonesia    3\n",
       "Spain        3\n",
       "Thailand     3\n",
       "Vietnam      3\n",
       "Africa       3\n",
       "Name: flag, dtype: int64"
      ]
     },
     "execution_count": 8,
     "metadata": {},
     "output_type": "execute_result"
    }
   ],
   "source": [
    "df['flag'].value_counts()"
   ]
  },
  {
   "cell_type": "code",
   "execution_count": 9,
   "metadata": {},
   "outputs": [],
   "source": [
    "X_train,X_test,y_train,y_test = train_test_split(\n",
    "    df['menu_new'],\n",
    "    df['flag'],\n",
    "    random_state = 1,\n",
    "    test_size = 0.2\n",
    ")"
   ]
  },
  {
   "cell_type": "code",
   "execution_count": 10,
   "metadata": {},
   "outputs": [],
   "source": [
    "clf = Pipeline([\n",
    "    ('vectorizer',CountVectorizer(ngram_range = (1,1))),\n",
    "    ('LogisticRegression',LogisticRegression())\n",
    "])"
   ]
  },
  {
   "cell_type": "code",
   "execution_count": 11,
   "metadata": {},
   "outputs": [
    {
     "data": {
      "text/plain": [
       "Pipeline(steps=[('vectorizer', CountVectorizer()),\n",
       "                ('LogisticRegression', LogisticRegression())])"
      ]
     },
     "execution_count": 11,
     "metadata": {},
     "output_type": "execute_result"
    }
   ],
   "source": [
    "clf.fit(X_train,y_train)"
   ]
  },
  {
   "cell_type": "code",
   "execution_count": 12,
   "metadata": {},
   "outputs": [],
   "source": [
    "y_pred = clf.predict(X_test)"
   ]
  },
  {
   "cell_type": "code",
   "execution_count": 13,
   "metadata": {},
   "outputs": [
    {
     "name": "stdout",
     "output_type": "stream",
     "text": [
      "              precision    recall  f1-score   support\n",
      "\n",
      "      Africa       1.00      1.00      1.00         1\n",
      "     America       0.00      0.00      0.00         0\n",
      "      Brazil       1.00      1.00      1.00         1\n",
      "       China       0.00      0.00      0.00         1\n",
      "      France       1.00      1.00      1.00         1\n",
      "     Germany       1.00      1.00      1.00         1\n",
      "   Indonesia       1.00      1.00      1.00         1\n",
      "       Italy       1.00      0.50      0.67         2\n",
      "       Japan       0.00      0.00      0.00         1\n",
      "    Thailand       0.50      1.00      0.67         1\n",
      "\n",
      "    accuracy                           0.70        10\n",
      "   macro avg       0.65      0.65      0.63        10\n",
      "weighted avg       0.75      0.70      0.70        10\n",
      "\n"
     ]
    },
    {
     "name": "stderr",
     "output_type": "stream",
     "text": [
      "c:\\Users\\Bharadwaj\\anaconda\\lib\\site-packages\\sklearn\\metrics\\_classification.py:1318: UndefinedMetricWarning: Precision and F-score are ill-defined and being set to 0.0 in labels with no predicted samples. Use `zero_division` parameter to control this behavior.\n",
      "  _warn_prf(average, modifier, msg_start, len(result))\n",
      "c:\\Users\\Bharadwaj\\anaconda\\lib\\site-packages\\sklearn\\metrics\\_classification.py:1318: UndefinedMetricWarning: Recall and F-score are ill-defined and being set to 0.0 in labels with no true samples. Use `zero_division` parameter to control this behavior.\n",
      "  _warn_prf(average, modifier, msg_start, len(result))\n",
      "c:\\Users\\Bharadwaj\\anaconda\\lib\\site-packages\\sklearn\\metrics\\_classification.py:1318: UndefinedMetricWarning: Precision and F-score are ill-defined and being set to 0.0 in labels with no predicted samples. Use `zero_division` parameter to control this behavior.\n",
      "  _warn_prf(average, modifier, msg_start, len(result))\n",
      "c:\\Users\\Bharadwaj\\anaconda\\lib\\site-packages\\sklearn\\metrics\\_classification.py:1318: UndefinedMetricWarning: Recall and F-score are ill-defined and being set to 0.0 in labels with no true samples. Use `zero_division` parameter to control this behavior.\n",
      "  _warn_prf(average, modifier, msg_start, len(result))\n",
      "c:\\Users\\Bharadwaj\\anaconda\\lib\\site-packages\\sklearn\\metrics\\_classification.py:1318: UndefinedMetricWarning: Precision and F-score are ill-defined and being set to 0.0 in labels with no predicted samples. Use `zero_division` parameter to control this behavior.\n",
      "  _warn_prf(average, modifier, msg_start, len(result))\n",
      "c:\\Users\\Bharadwaj\\anaconda\\lib\\site-packages\\sklearn\\metrics\\_classification.py:1318: UndefinedMetricWarning: Recall and F-score are ill-defined and being set to 0.0 in labels with no true samples. Use `zero_division` parameter to control this behavior.\n",
      "  _warn_prf(average, modifier, msg_start, len(result))\n"
     ]
    }
   ],
   "source": [
    "print(classification_report(y_test,y_pred))"
   ]
  },
  {
   "cell_type": "code",
   "execution_count": null,
   "metadata": {},
   "outputs": [],
   "source": []
  }
 ],
 "metadata": {
  "kernelspec": {
   "display_name": "base",
   "language": "python",
   "name": "python3"
  },
  "language_info": {
   "codemirror_mode": {
    "name": "ipython",
    "version": 3
   },
   "file_extension": ".py",
   "mimetype": "text/x-python",
   "name": "python",
   "nbconvert_exporter": "python",
   "pygments_lexer": "ipython3",
   "version": "3.9.12"
  },
  "orig_nbformat": 4
 },
 "nbformat": 4,
 "nbformat_minor": 2
}
